{
 "cells": [
  {
   "cell_type": "markdown",
   "metadata": {},
   "source": [
    "# <center>Bài tập: So sánh hai vector trung bình</center>\n",
    "## Bài toán so sánh hai vector trung bình\n",
    "* Trong bài toán kiểm định giả thuyết so sánh hai vector trung bình, ta có hai mẫu ngẫu nhiên $\\boldsymbol{x}_{11},\\ldots,\\boldsymbol{x}_{1n_1}$ và $\\boldsymbol{x}_{21},\\ldots,\\boldsymbol{x}_{2n_2}$. Hai mẫu này được lấy từ hai tập nền tương ứng có phân phối chuẩn d-chiều $\\boldsymbol{X}_1 \\sim \\mathcal{N}_d(\\boldsymbol{\\mu}_1, \\Sigma_1)$ và $\\boldsymbol{X}_2 \\sim \\mathcal{N}_d(\\boldsymbol{\\mu}_2, \\Sigma_2)$, và ta có thêm giả thiết hai ma trận hiệp phương sai bằng nhau $\\Sigma_1 = \\Sigma_2 = \\Sigma$.\n",
    "* Bài toán đặt ra là ta cần so sánh hai vector kì vọng $\\boldsymbol{\\mu}_1$ và $\\boldsymbol{\\mu}_2$. Như vậy, giả thuyết gốc là $H_0: \\boldsymbol{\\mu}_1 = \\boldsymbol{\\mu}_2$ và đối thuyết $H_1: \\boldsymbol{\\mu}_1 \\neq \\boldsymbol{\\mu}_2$.\n",
    "* Gọi $\\overline{\\boldsymbol{x}}_i = \\dfrac{1}{n_i} \\sum_{j=1}^{n_i} \\boldsymbol{x}_{ij}$ và $\\boldsymbol{S}_i = \\dfrac{1}{n_i - 1} \\sum_{j=1}^{n_i} (\\boldsymbol{x}_{ij} - \\overline{\\boldsymbol{x}}_i)(\\boldsymbol{x}_{ij} - \\overline{\\boldsymbol{x}}_i)^T$ lần lượt là vector trung bình mẫu và ma trận hiệp phương sai mẫu của mẫu thứ $i$ ($i=1,2$). Xét tiêu chuẩn:\n",
    "$$T^2 = [\\overline{\\boldsymbol{x}}_1 - \\overline{\\boldsymbol{x}}_2 - (\\boldsymbol{\\mu}_1 - \\boldsymbol{\\mu}_2)]^T \\bigg[ \\bigg( \\dfrac{1}{n_1} + \\dfrac{1}{n_2} \\bigg) \\boldsymbol{S} \\bigg]^{-1} [\\overline{\\boldsymbol{x}}_1 - \\overline{\\boldsymbol{x}}_2 - (\\boldsymbol{\\mu}_1 - \\boldsymbol{\\mu}_2)] $$\n",
    "ở đó, $\\boldsymbol{S} = \\dfrac{1}{n_1 + n_2 - 2}[(n_1 - 1)\\boldsymbol{S}_1 + (n_2 - 1)\\boldsymbol{S}_2]$ là hiệp phương sai chung của hai mẫu.\n",
    "* Khi giả thuyết $H_0: \\boldsymbol{\\mu}_1 = \\boldsymbol{\\mu}_2$ đúng, thống kê $T^2$ ở trên tuân theo phân phối\n",
    "$$ T^2 \\sim \\dfrac{(n_1 + n_2 - 2)d}{n_1 + n_2 - d - 1} F_{d;n_1 + n_2 - d - 1} $$\n",
    "\n",
    "## Ví dụ: so sánh kích thước mai rùa\n",
    "* Kích thước mai rùa được đặc trưng bởi $d=3$ yếu tố: chiều dài, chiều rộng, chiều cao (mm).\n",
    "* Bộ dữ liệu gồm có 2 tập mẫu: dữ liệu kích thước mai rùa của $n_1 = 24$ con rùa cái và dữ liệu kích thước mai rùa của $n_2 = 24$ con rùa đực. "
   ]
  },
  {
   "cell_type": "code",
   "execution_count": 97,
   "metadata": {},
   "outputs": [],
   "source": [
    "import pandas as pd\n",
    "import numpy as np\n",
    "import matplotlib.pyplot as plt\n",
    "from scipy import stats\n",
    "from mpl_toolkits.mplot3d import Axes3D\n",
    "%matplotlib inline"
   ]
  },
  {
   "cell_type": "code",
   "execution_count": 2,
   "metadata": {},
   "outputs": [],
   "source": [
    "female = pd.read_csv(\"female.csv\")\n",
    "male = pd.read_csv(\"male.csv\")"
   ]
  },
  {
   "cell_type": "markdown",
   "metadata": {},
   "source": [
    "* Dữ liệu về kích thước mai rùa của 24 con rùa cái:"
   ]
  },
  {
   "cell_type": "code",
   "execution_count": 129,
   "metadata": {},
   "outputs": [
    {
     "data": {
      "text/html": [
       "<div>\n",
       "<style scoped>\n",
       "    .dataframe tbody tr th:only-of-type {\n",
       "        vertical-align: middle;\n",
       "    }\n",
       "\n",
       "    .dataframe tbody tr th {\n",
       "        vertical-align: top;\n",
       "    }\n",
       "\n",
       "    .dataframe thead th {\n",
       "        text-align: right;\n",
       "    }\n",
       "</style>\n",
       "<table border=\"1\" class=\"dataframe\">\n",
       "  <thead>\n",
       "    <tr style=\"text-align: right;\">\n",
       "      <th></th>\n",
       "      <th>Length</th>\n",
       "      <th>Width</th>\n",
       "      <th>Height</th>\n",
       "    </tr>\n",
       "  </thead>\n",
       "  <tbody>\n",
       "    <tr>\n",
       "      <th>0</th>\n",
       "      <td>98</td>\n",
       "      <td>81</td>\n",
       "      <td>38</td>\n",
       "    </tr>\n",
       "    <tr>\n",
       "      <th>1</th>\n",
       "      <td>103</td>\n",
       "      <td>84</td>\n",
       "      <td>38</td>\n",
       "    </tr>\n",
       "    <tr>\n",
       "      <th>2</th>\n",
       "      <td>103</td>\n",
       "      <td>86</td>\n",
       "      <td>42</td>\n",
       "    </tr>\n",
       "    <tr>\n",
       "      <th>3</th>\n",
       "      <td>105</td>\n",
       "      <td>86</td>\n",
       "      <td>42</td>\n",
       "    </tr>\n",
       "    <tr>\n",
       "      <th>4</th>\n",
       "      <td>109</td>\n",
       "      <td>88</td>\n",
       "      <td>44</td>\n",
       "    </tr>\n",
       "    <tr>\n",
       "      <th>5</th>\n",
       "      <td>123</td>\n",
       "      <td>92</td>\n",
       "      <td>50</td>\n",
       "    </tr>\n",
       "    <tr>\n",
       "      <th>6</th>\n",
       "      <td>123</td>\n",
       "      <td>95</td>\n",
       "      <td>46</td>\n",
       "    </tr>\n",
       "    <tr>\n",
       "      <th>7</th>\n",
       "      <td>133</td>\n",
       "      <td>99</td>\n",
       "      <td>51</td>\n",
       "    </tr>\n",
       "    <tr>\n",
       "      <th>8</th>\n",
       "      <td>133</td>\n",
       "      <td>101</td>\n",
       "      <td>51</td>\n",
       "    </tr>\n",
       "    <tr>\n",
       "      <th>9</th>\n",
       "      <td>133</td>\n",
       "      <td>102</td>\n",
       "      <td>51</td>\n",
       "    </tr>\n",
       "    <tr>\n",
       "      <th>10</th>\n",
       "      <td>134</td>\n",
       "      <td>100</td>\n",
       "      <td>48</td>\n",
       "    </tr>\n",
       "    <tr>\n",
       "      <th>11</th>\n",
       "      <td>136</td>\n",
       "      <td>102</td>\n",
       "      <td>49</td>\n",
       "    </tr>\n",
       "    <tr>\n",
       "      <th>12</th>\n",
       "      <td>138</td>\n",
       "      <td>98</td>\n",
       "      <td>51</td>\n",
       "    </tr>\n",
       "    <tr>\n",
       "      <th>13</th>\n",
       "      <td>138</td>\n",
       "      <td>99</td>\n",
       "      <td>51</td>\n",
       "    </tr>\n",
       "    <tr>\n",
       "      <th>14</th>\n",
       "      <td>141</td>\n",
       "      <td>105</td>\n",
       "      <td>53</td>\n",
       "    </tr>\n",
       "    <tr>\n",
       "      <th>15</th>\n",
       "      <td>147</td>\n",
       "      <td>108</td>\n",
       "      <td>57</td>\n",
       "    </tr>\n",
       "    <tr>\n",
       "      <th>16</th>\n",
       "      <td>149</td>\n",
       "      <td>107</td>\n",
       "      <td>55</td>\n",
       "    </tr>\n",
       "    <tr>\n",
       "      <th>17</th>\n",
       "      <td>153</td>\n",
       "      <td>107</td>\n",
       "      <td>56</td>\n",
       "    </tr>\n",
       "    <tr>\n",
       "      <th>18</th>\n",
       "      <td>155</td>\n",
       "      <td>115</td>\n",
       "      <td>63</td>\n",
       "    </tr>\n",
       "    <tr>\n",
       "      <th>19</th>\n",
       "      <td>155</td>\n",
       "      <td>117</td>\n",
       "      <td>60</td>\n",
       "    </tr>\n",
       "    <tr>\n",
       "      <th>20</th>\n",
       "      <td>158</td>\n",
       "      <td>115</td>\n",
       "      <td>62</td>\n",
       "    </tr>\n",
       "    <tr>\n",
       "      <th>21</th>\n",
       "      <td>159</td>\n",
       "      <td>118</td>\n",
       "      <td>63</td>\n",
       "    </tr>\n",
       "    <tr>\n",
       "      <th>22</th>\n",
       "      <td>162</td>\n",
       "      <td>124</td>\n",
       "      <td>61</td>\n",
       "    </tr>\n",
       "    <tr>\n",
       "      <th>23</th>\n",
       "      <td>177</td>\n",
       "      <td>132</td>\n",
       "      <td>67</td>\n",
       "    </tr>\n",
       "  </tbody>\n",
       "</table>\n",
       "</div>"
      ],
      "text/plain": [
       "    Length  Width  Height\n",
       "0       98     81      38\n",
       "1      103     84      38\n",
       "2      103     86      42\n",
       "3      105     86      42\n",
       "4      109     88      44\n",
       "5      123     92      50\n",
       "6      123     95      46\n",
       "7      133     99      51\n",
       "8      133    101      51\n",
       "9      133    102      51\n",
       "10     134    100      48\n",
       "11     136    102      49\n",
       "12     138     98      51\n",
       "13     138     99      51\n",
       "14     141    105      53\n",
       "15     147    108      57\n",
       "16     149    107      55\n",
       "17     153    107      56\n",
       "18     155    115      63\n",
       "19     155    117      60\n",
       "20     158    115      62\n",
       "21     159    118      63\n",
       "22     162    124      61\n",
       "23     177    132      67"
      ]
     },
     "execution_count": 129,
     "metadata": {},
     "output_type": "execute_result"
    }
   ],
   "source": [
    "female"
   ]
  },
  {
   "cell_type": "markdown",
   "metadata": {},
   "source": [
    "* Dữ liệu về kích thước mai rùa của 24 con rùa đực:"
   ]
  },
  {
   "cell_type": "code",
   "execution_count": 130,
   "metadata": {},
   "outputs": [
    {
     "data": {
      "text/html": [
       "<div>\n",
       "<style scoped>\n",
       "    .dataframe tbody tr th:only-of-type {\n",
       "        vertical-align: middle;\n",
       "    }\n",
       "\n",
       "    .dataframe tbody tr th {\n",
       "        vertical-align: top;\n",
       "    }\n",
       "\n",
       "    .dataframe thead th {\n",
       "        text-align: right;\n",
       "    }\n",
       "</style>\n",
       "<table border=\"1\" class=\"dataframe\">\n",
       "  <thead>\n",
       "    <tr style=\"text-align: right;\">\n",
       "      <th></th>\n",
       "      <th>Length</th>\n",
       "      <th>Width</th>\n",
       "      <th>Height</th>\n",
       "    </tr>\n",
       "  </thead>\n",
       "  <tbody>\n",
       "    <tr>\n",
       "      <th>0</th>\n",
       "      <td>93</td>\n",
       "      <td>74</td>\n",
       "      <td>37</td>\n",
       "    </tr>\n",
       "    <tr>\n",
       "      <th>1</th>\n",
       "      <td>94</td>\n",
       "      <td>78</td>\n",
       "      <td>35</td>\n",
       "    </tr>\n",
       "    <tr>\n",
       "      <th>2</th>\n",
       "      <td>96</td>\n",
       "      <td>80</td>\n",
       "      <td>35</td>\n",
       "    </tr>\n",
       "    <tr>\n",
       "      <th>3</th>\n",
       "      <td>101</td>\n",
       "      <td>84</td>\n",
       "      <td>39</td>\n",
       "    </tr>\n",
       "    <tr>\n",
       "      <th>4</th>\n",
       "      <td>102</td>\n",
       "      <td>85</td>\n",
       "      <td>38</td>\n",
       "    </tr>\n",
       "    <tr>\n",
       "      <th>5</th>\n",
       "      <td>103</td>\n",
       "      <td>81</td>\n",
       "      <td>37</td>\n",
       "    </tr>\n",
       "    <tr>\n",
       "      <th>6</th>\n",
       "      <td>104</td>\n",
       "      <td>83</td>\n",
       "      <td>39</td>\n",
       "    </tr>\n",
       "    <tr>\n",
       "      <th>7</th>\n",
       "      <td>106</td>\n",
       "      <td>83</td>\n",
       "      <td>39</td>\n",
       "    </tr>\n",
       "    <tr>\n",
       "      <th>8</th>\n",
       "      <td>107</td>\n",
       "      <td>82</td>\n",
       "      <td>38</td>\n",
       "    </tr>\n",
       "    <tr>\n",
       "      <th>9</th>\n",
       "      <td>112</td>\n",
       "      <td>89</td>\n",
       "      <td>40</td>\n",
       "    </tr>\n",
       "    <tr>\n",
       "      <th>10</th>\n",
       "      <td>113</td>\n",
       "      <td>88</td>\n",
       "      <td>40</td>\n",
       "    </tr>\n",
       "    <tr>\n",
       "      <th>11</th>\n",
       "      <td>114</td>\n",
       "      <td>86</td>\n",
       "      <td>40</td>\n",
       "    </tr>\n",
       "    <tr>\n",
       "      <th>12</th>\n",
       "      <td>116</td>\n",
       "      <td>90</td>\n",
       "      <td>43</td>\n",
       "    </tr>\n",
       "    <tr>\n",
       "      <th>13</th>\n",
       "      <td>117</td>\n",
       "      <td>90</td>\n",
       "      <td>41</td>\n",
       "    </tr>\n",
       "    <tr>\n",
       "      <th>14</th>\n",
       "      <td>117</td>\n",
       "      <td>91</td>\n",
       "      <td>41</td>\n",
       "    </tr>\n",
       "    <tr>\n",
       "      <th>15</th>\n",
       "      <td>119</td>\n",
       "      <td>93</td>\n",
       "      <td>41</td>\n",
       "    </tr>\n",
       "    <tr>\n",
       "      <th>16</th>\n",
       "      <td>120</td>\n",
       "      <td>89</td>\n",
       "      <td>40</td>\n",
       "    </tr>\n",
       "    <tr>\n",
       "      <th>17</th>\n",
       "      <td>120</td>\n",
       "      <td>93</td>\n",
       "      <td>44</td>\n",
       "    </tr>\n",
       "    <tr>\n",
       "      <th>18</th>\n",
       "      <td>121</td>\n",
       "      <td>95</td>\n",
       "      <td>42</td>\n",
       "    </tr>\n",
       "    <tr>\n",
       "      <th>19</th>\n",
       "      <td>125</td>\n",
       "      <td>93</td>\n",
       "      <td>45</td>\n",
       "    </tr>\n",
       "    <tr>\n",
       "      <th>20</th>\n",
       "      <td>127</td>\n",
       "      <td>96</td>\n",
       "      <td>45</td>\n",
       "    </tr>\n",
       "    <tr>\n",
       "      <th>21</th>\n",
       "      <td>128</td>\n",
       "      <td>95</td>\n",
       "      <td>45</td>\n",
       "    </tr>\n",
       "    <tr>\n",
       "      <th>22</th>\n",
       "      <td>131</td>\n",
       "      <td>95</td>\n",
       "      <td>46</td>\n",
       "    </tr>\n",
       "    <tr>\n",
       "      <th>23</th>\n",
       "      <td>135</td>\n",
       "      <td>106</td>\n",
       "      <td>47</td>\n",
       "    </tr>\n",
       "  </tbody>\n",
       "</table>\n",
       "</div>"
      ],
      "text/plain": [
       "    Length  Width  Height\n",
       "0       93     74      37\n",
       "1       94     78      35\n",
       "2       96     80      35\n",
       "3      101     84      39\n",
       "4      102     85      38\n",
       "5      103     81      37\n",
       "6      104     83      39\n",
       "7      106     83      39\n",
       "8      107     82      38\n",
       "9      112     89      40\n",
       "10     113     88      40\n",
       "11     114     86      40\n",
       "12     116     90      43\n",
       "13     117     90      41\n",
       "14     117     91      41\n",
       "15     119     93      41\n",
       "16     120     89      40\n",
       "17     120     93      44\n",
       "18     121     95      42\n",
       "19     125     93      45\n",
       "20     127     96      45\n",
       "21     128     95      45\n",
       "22     131     95      46\n",
       "23     135    106      47"
      ]
     },
     "execution_count": 130,
     "metadata": {},
     "output_type": "execute_result"
    }
   ],
   "source": [
    "male"
   ]
  },
  {
   "cell_type": "markdown",
   "metadata": {},
   "source": [
    "* Số chiều $d$:"
   ]
  },
  {
   "cell_type": "code",
   "execution_count": 134,
   "metadata": {},
   "outputs": [
    {
     "name": "stdout",
     "output_type": "stream",
     "text": [
      "d = 3\n"
     ]
    }
   ],
   "source": [
    "d = female.shape[1]\n",
    "print(\"d = %i\" % d)"
   ]
  },
  {
   "cell_type": "markdown",
   "metadata": {},
   "source": [
    "* Kích thước mẫu thứ nhất $n_1$:"
   ]
  },
  {
   "cell_type": "code",
   "execution_count": 136,
   "metadata": {},
   "outputs": [
    {
     "name": "stdout",
     "output_type": "stream",
     "text": [
      "n_1 = 24\n"
     ]
    }
   ],
   "source": [
    "n_female = female.shape[0]\n",
    "print(\"n_1 = %i\" % n_female)"
   ]
  },
  {
   "cell_type": "markdown",
   "metadata": {},
   "source": [
    "* Kích thước mẫu thứ hai $n_2$:"
   ]
  },
  {
   "cell_type": "code",
   "execution_count": 137,
   "metadata": {},
   "outputs": [
    {
     "name": "stdout",
     "output_type": "stream",
     "text": [
      "n_2 = 24\n"
     ]
    }
   ],
   "source": [
    "n_male = male.shape[0]\n",
    "print(\"n_2 = %i\" % n_male)"
   ]
  },
  {
   "cell_type": "markdown",
   "metadata": {},
   "source": [
    "* Trung bình mẫu thứ nhất $\\overline{\\boldsymbol{x}}_1$:"
   ]
  },
  {
   "cell_type": "code",
   "execution_count": 140,
   "metadata": {},
   "outputs": [
    {
     "name": "stdout",
     "output_type": "stream",
     "text": [
      "[[ 136.04166667]\n",
      " [ 102.54166667]\n",
      " [  52.04166667]]\n"
     ]
    }
   ],
   "source": [
    "female_mean = female.mean().values.reshape(-1,1)\n",
    "print(female_mean)"
   ]
  },
  {
   "cell_type": "markdown",
   "metadata": {},
   "source": [
    "* Trung bình mẫu thứ hai $\\overline{\\boldsymbol{x}}_2$:"
   ]
  },
  {
   "cell_type": "code",
   "execution_count": 141,
   "metadata": {},
   "outputs": [
    {
     "name": "stdout",
     "output_type": "stream",
     "text": [
      "[[ 113.375     ]\n",
      " [  88.29166667]\n",
      " [  40.70833333]]\n"
     ]
    }
   ],
   "source": [
    "male_mean = male.mean().values.reshape(-1,1)\n",
    "print(male_mean)"
   ]
  },
  {
   "cell_type": "markdown",
   "metadata": {},
   "source": [
    "* Ma trận hiệp phương sai mẫu thứ nhất $\\boldsymbol{S}_1$:"
   ]
  },
  {
   "cell_type": "code",
   "execution_count": 142,
   "metadata": {},
   "outputs": [
    {
     "data": {
      "text/html": [
       "<div>\n",
       "<style scoped>\n",
       "    .dataframe tbody tr th:only-of-type {\n",
       "        vertical-align: middle;\n",
       "    }\n",
       "\n",
       "    .dataframe tbody tr th {\n",
       "        vertical-align: top;\n",
       "    }\n",
       "\n",
       "    .dataframe thead th {\n",
       "        text-align: right;\n",
       "    }\n",
       "</style>\n",
       "<table border=\"1\" class=\"dataframe\">\n",
       "  <thead>\n",
       "    <tr style=\"text-align: right;\">\n",
       "      <th></th>\n",
       "      <th>Length</th>\n",
       "      <th>Width</th>\n",
       "      <th>Height</th>\n",
       "    </tr>\n",
       "  </thead>\n",
       "  <tbody>\n",
       "    <tr>\n",
       "      <th>Length</th>\n",
       "      <td>451.519928</td>\n",
       "      <td>271.106884</td>\n",
       "      <td>165.954710</td>\n",
       "    </tr>\n",
       "    <tr>\n",
       "      <th>Width</th>\n",
       "      <td>271.106884</td>\n",
       "      <td>171.824275</td>\n",
       "      <td>101.889493</td>\n",
       "    </tr>\n",
       "    <tr>\n",
       "      <th>Height</th>\n",
       "      <td>165.954710</td>\n",
       "      <td>101.889493</td>\n",
       "      <td>64.737319</td>\n",
       "    </tr>\n",
       "  </tbody>\n",
       "</table>\n",
       "</div>"
      ],
      "text/plain": [
       "            Length       Width      Height\n",
       "Length  451.519928  271.106884  165.954710\n",
       "Width   271.106884  171.824275  101.889493\n",
       "Height  165.954710  101.889493   64.737319"
      ]
     },
     "execution_count": 142,
     "metadata": {},
     "output_type": "execute_result"
    }
   ],
   "source": [
    "female_cov = female.cov().values\n",
    "female.cov()"
   ]
  },
  {
   "cell_type": "markdown",
   "metadata": {},
   "source": [
    "* Ma trận hiệp phương sai mẫu thứ hai $\\boldsymbol{S}_2$:"
   ]
  },
  {
   "cell_type": "code",
   "execution_count": 143,
   "metadata": {},
   "outputs": [
    {
     "data": {
      "text/html": [
       "<div>\n",
       "<style scoped>\n",
       "    .dataframe tbody tr th:only-of-type {\n",
       "        vertical-align: middle;\n",
       "    }\n",
       "\n",
       "    .dataframe tbody tr th {\n",
       "        vertical-align: top;\n",
       "    }\n",
       "\n",
       "    .dataframe thead th {\n",
       "        text-align: right;\n",
       "    }\n",
       "</style>\n",
       "<table border=\"1\" class=\"dataframe\">\n",
       "  <thead>\n",
       "    <tr style=\"text-align: right;\">\n",
       "      <th></th>\n",
       "      <th>Length</th>\n",
       "      <th>Width</th>\n",
       "      <th>Height</th>\n",
       "    </tr>\n",
       "  </thead>\n",
       "  <tbody>\n",
       "    <tr>\n",
       "      <th>Length</th>\n",
       "      <td>138.766304</td>\n",
       "      <td>79.146739</td>\n",
       "      <td>37.375000</td>\n",
       "    </tr>\n",
       "    <tr>\n",
       "      <th>Width</th>\n",
       "      <td>79.146739</td>\n",
       "      <td>50.041667</td>\n",
       "      <td>21.653986</td>\n",
       "    </tr>\n",
       "    <tr>\n",
       "      <th>Height</th>\n",
       "      <td>37.375000</td>\n",
       "      <td>21.653986</td>\n",
       "      <td>11.259058</td>\n",
       "    </tr>\n",
       "  </tbody>\n",
       "</table>\n",
       "</div>"
      ],
      "text/plain": [
       "            Length      Width     Height\n",
       "Length  138.766304  79.146739  37.375000\n",
       "Width    79.146739  50.041667  21.653986\n",
       "Height   37.375000  21.653986  11.259058"
      ]
     },
     "execution_count": 143,
     "metadata": {},
     "output_type": "execute_result"
    }
   ],
   "source": [
    "male_cov = male.cov().values\n",
    "male.cov()"
   ]
  },
  {
   "cell_type": "markdown",
   "metadata": {},
   "source": [
    "* Biểu đồ biểu diễn các điểm dữ liệu trong bộ dữ liệu:"
   ]
  },
  {
   "cell_type": "code",
   "execution_count": 102,
   "metadata": {},
   "outputs": [
    {
     "data": {
      "image/png": "[encoded data removed]",
      "text/plain": [
       "<matplotlib.figure.Figure at 0x14e615c0>"
      ]
     },
     "metadata": {},
     "output_type": "display_data"
    }
   ],
   "source": [
    "fig = plt.figure(figsize=(12,10))\n",
    "ax = plt.axes(projection='3d')\n",
    "ax.scatter3D(male.Length,male.Width,male.Height,c='red',label='male')\n",
    "ax.scatter3D(male.mean().Length,male.mean().Width,male.mean().Height,c='red',marker='x',label='mean(male)')\n",
    "ax.scatter3D(female.Length,female.Width,female.Height,c='blue',label='female')\n",
    "ax.scatter3D(female.mean().Length,female.mean().Width,female.mean().Height,c='blue',marker='x',label='mean(female)')\n",
    "ax.set_xlabel('Length')\n",
    "ax.set_ylabel('Width')\n",
    "ax.set_zlabel('Height')\n",
    "ax.legend()\n",
    "plt.show()"
   ]
  },
  {
   "cell_type": "markdown",
   "metadata": {},
   "source": [
    "* Phân phối Fisher: biến ngẫu nhiên $X$ tuân theo phân phối Fisher với các tham số $d_1$ và $d_2$, kí hiệu là $X \\sim F_{d_1;d_2}$. Hàm mật độ của phân phối Fisher:\n",
    "$$ f(x; d_1,d_2) = \\dfrac{\\sqrt{\\dfrac{(d_1 x)^{d_1}(d_2)^{d_2}}{(d_1 x + d_2)^{d_1 + d_2}}}}{x B\\bigg( \\dfrac{d_1}{2}, \\dfrac{d_2}{2} \\bigg)}, \\quad x \\geq 0 $$\n",
    "trong đó, $B(x,y)$ là hàm beta:\n",
    "$$B(x,y) = \\int_0^1 t^{x-1} (1-t)^{y-1} dt$$\n",
    "* $T^2 \\sim \\dfrac{(n_1 + n_2 - 2)d}{n_1 + n_2 - d - 1} F_{d;n_1 + n_2 - d - 1}$. Cụ thể, ta có $n_1 = 24, n_2 = 24, d = 3$ nên $T^2 \\sim \\dfrac{138}{44} F_{3;44}$.\n",
    "* Dưới đây là đồ thị hàm mật độ xác suất của $T^2$: "
   ]
  },
  {
   "cell_type": "code",
   "execution_count": 152,
   "metadata": {},
   "outputs": [
    {
     "data": {
      "image/png": "[encoded data removed]",
      "text/plain": [
       "<matplotlib.figure.Figure at 0x18185ba8>"
      ]
     },
     "metadata": {},
     "output_type": "display_data"
    }
   ],
   "source": [
    "d1 = d\n",
    "d2 = n_male + n_female - d - 1\n",
    "rv = stats.f(dfn=d1,dfd=d2,scale=(d1 + d2 - 1) * d1 / d2)\n",
    "x = np.arange(0.001,20,0.01)\n",
    "plt.figure(figsize=(12,10))\n",
    "plt.xlabel('x')\n",
    "plt.ylabel('pdf(x)')\n",
    "plt.title(r'pdf of $T^2 \\sim \\dfrac{(n_1 + n_2 - 2)d}{n_1 + n_2 - d - 1} F_{d;n_1 + n_2 - d - 1}$')\n",
    "plt.plot(x, rv.pdf(x))\n",
    "plt.show()"
   ]
  },
  {
   "cell_type": "markdown",
   "metadata": {},
   "source": [
    "* Kiểm định giả thuyết: \n",
    "    * Do đối thuyết $H_1: \\boldsymbol{\\mu}_1 \\neq \\boldsymbol{\\mu}_2$ nên miền tới hạn là hai phía.\n",
    "    * Mức ý nghĩa $\\alpha = 0.05$.\n",
    "    * Giá trị tới hạn trái: $T^2_{\\alpha / 2}$ thỏa mãn \n",
    "    $$P(T^2 < T^2_{\\alpha / 2}) = \\dfrac{\\alpha}{2}$$\n",
    "    hay \n",
    "    $$T^2_{\\alpha / 2} = Q(\\dfrac{\\alpha}{2}).$$\n",
    "    $Q(x) = F^{-1}(x)$ là hàm ngược của hàm phân phối tích lũy, được gọi là hàm phân vị (quantile/percent-point function).\n",
    "    * Giá trị tới hạn phải: $T^2_{1 - \\alpha / 2}$ thỏa mãn \n",
    "    $$P(T^2 > T^2_{1 - \\alpha / 2}) = \\dfrac{\\alpha}{2}$$\n",
    "    hay \n",
    "    $$T^2_{\\alpha / 2} = S^{-1}(\\dfrac{\\alpha}{2}).$$\n",
    "    $S(x) = 1 - F(x)$ được gọi là hàm sinh tồn (survival function).\n",
    "    * Miền tới hạn: $B_{\\alpha} = (0, T^2_{\\alpha / 2}) \\cup (T^2_{1 - \\alpha / 2}, +\\infty)$"
   ]
  },
  {
   "cell_type": "code",
   "execution_count": 15,
   "metadata": {},
   "outputs": [],
   "source": [
    "def hypothesis_testing(sample_mean1, sample_mean2, sample_cov1, sample_cov2, n1, n2, d, alpha = 0.05):\n",
    "    common_sample_cov = ((n1 - 1) * sample_cov1 + (n2 - 1) * sample_cov2) / (n1 + n2 - 2)\n",
    "    statistic = (sample_mean1 - sample_mean2).T @ np.linalg.inv((1 / n1 + 1 / n2) * common_sample_cov) @ (sample_mean1 - sample_mean2)\n",
    "    statistic = np.asscalar(statistic)\n",
    "    \n",
    "    d1 = d\n",
    "    d2 = n1 + n2 - d - 1\n",
    "    rv = stats.f(dfn=d1,dfd=d2,scale=(d1 + d2 - 1) * d1 / d2)\n",
    "    \n",
    "    critical_value_lower = rv.ppf(alpha / 2)\n",
    "    critical_value_upper = rv.isf(alpha / 2)\n",
    "    return (statistic,critical_value_lower,critical_value_upper)"
   ]
  },
  {
   "cell_type": "markdown",
   "metadata": {},
   "source": [
    "* Với mức ý nghĩa $\\alpha = 0.05$:"
   ]
  },
  {
   "cell_type": "code",
   "execution_count": null,
   "metadata": {},
   "outputs": [],
   "source": [
    "statistic,critical_value_lower,critical_value_upper = hypothesis_testing(female_mean, male_mean, female_cov, male_cov, n_female, n_male, d)"
   ]
  },
  {
   "cell_type": "markdown",
   "metadata": {},
   "source": [
    "* Giá trị tới hạn trái $T^2_{\\alpha / 2}$"
   ]
  },
  {
   "cell_type": "code",
   "execution_count": 158,
   "metadata": {},
   "outputs": [
    {
     "name": "stdout",
     "output_type": "stream",
     "text": [
      "lower critical value: 0.223636\n"
     ]
    }
   ],
   "source": [
    "print(\"lower critical value: %f\" % critical_value_lower)"
   ]
  },
  {
   "cell_type": "markdown",
   "metadata": {},
   "source": [
    "* Giá trị tới hạn phải $T^2_{1 - \\alpha / 2}$"
   ]
  },
  {
   "cell_type": "code",
   "execution_count": 159,
   "metadata": {},
   "outputs": [
    {
     "name": "stdout",
     "output_type": "stream",
     "text": [
      "upper critical value: 10.757131 \n"
     ]
    }
   ],
   "source": [
    "print(\"upper critical value: %f \" % critical_value_upper)"
   ]
  },
  {
   "cell_type": "markdown",
   "metadata": {},
   "source": [
    "* Đồ thị biểu diễn các giá trị tới hạn trái, giá trị tới hạn phải, miền tới hạn:"
   ]
  },
  {
   "cell_type": "code",
   "execution_count": 126,
   "metadata": {},
   "outputs": [
    {
     "data": {
      "image/png": "[encoded data removed]",
      "text/plain": [
       "<matplotlib.figure.Figure at 0x14f45160>"
      ]
     },
     "metadata": {},
     "output_type": "display_data"
    }
   ],
   "source": [
    "plt.figure(figsize=(12,10))\n",
    "plt.xlabel('x')\n",
    "plt.ylabel('pdf(x)')\n",
    "plt.title(r'Hypothesis testing - mean comparison with $H_0$: $\\mu_1 = \\mu_2$ vs. $H_1$: $\\mu_1 \\neq \\mu_2$')\n",
    "\n",
    "x = np.arange(0.001,critical_value_lower,0.01)\n",
    "plt.fill_between(x, rv.pdf(x) ,facecolor='red', alpha=0.35, label = 'Critical region')\n",
    "plt.vlines(critical_value_lower,0,rv.pdf(critical_value_lower),linestyles='--')\n",
    "x = np.arange(critical_value_lower,critical_value_upper,0.01)\n",
    "plt.fill_between(x, rv.pdf(x) ,facecolor='white', alpha=0.35)\n",
    "x = np.arange(critical_value_upper,20,0.01)\n",
    "plt.fill_between(x, rv.pdf(x) ,facecolor='red', alpha=0.35)\n",
    "plt.vlines(critical_value_upper,0,rv.pdf(critical_value_upper),linestyles='--')\n",
    "x = np.arange(0.001,20,0.01)\n",
    "plt.plot(x, rv.pdf(x))\n",
    "\n",
    "xticks_locs = list(plt.xticks()[0]) + [round(critical_value_lower,2), round(critical_value_upper,2)]\n",
    "xticks_locs.sort()\n",
    "xticks_labels = list(xticks_locs)\n",
    "xticks_labels[1] = ''\n",
    "xticks_labels[6] = ''\n",
    "xticks_labels = tuple(xticks_labels)\n",
    "plt.xticks(xticks_locs, xticks_labels)\n",
    "plt.legend()\n",
    "plt.show()"
   ]
  },
  {
   "cell_type": "markdown",
   "metadata": {},
   "source": [
    "* Giá trị quan sát được của $T^2$"
   ]
  },
  {
   "cell_type": "code",
   "execution_count": 160,
   "metadata": {},
   "outputs": [
    {
     "name": "stdout",
     "output_type": "stream",
     "text": [
      "observed T^2 statistic value: 72.546342\n"
     ]
    }
   ],
   "source": [
    "print(\"observed T^2 statistic value: %f\" % statistic)"
   ]
  },
  {
   "cell_type": "markdown",
   "metadata": {},
   "source": [
    "* Giá trị quan sát được của $T^2$ nằm trong miền bác bỏ $B_{\\alpha}$. Như vậy, với mức ý nghĩa $\\alpha = 0.05$, ta bác bỏ giả thuyết $H_0: \\boldsymbol{\\mu}_1 = \\boldsymbol{\\mu}_2$."
   ]
  }
 ],
 "metadata": {
  "kernelspec": {
   "display_name": "Python 3",
   "language": "python",
   "name": "python3"
  },
  "language_info": {
   "codemirror_mode": {
    "name": "ipython",
    "version": 3
   },
   "file_extension": ".py",
   "mimetype": "text/x-python",
   "name": "python",
   "nbconvert_exporter": "python",
   "pygments_lexer": "ipython3",
   "version": "3.5.2"
  }
 },
 "nbformat": 4,
 "nbformat_minor": 2
}
