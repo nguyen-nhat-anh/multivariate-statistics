{
 "cells": [
  {
   "cell_type": "markdown",
   "metadata": {},
   "source": [
    "# <center>Bài tập: So sánh hai vector trung bình</center>\n",
    "## Bài toán so sánh hai vector trung bình\n",
    "* Trong bài toán kiểm định giả thuyết so sánh hai vector trung bình, ta có hai mẫu ngẫu nhiên $\\boldsymbol{x}_{11},\\ldots,\\boldsymbol{x}_{1n_1}$ và $\\boldsymbol{x}_{21},\\ldots,\\boldsymbol{x}_{2n_2}$. Hai mẫu này được lấy từ hai tập nền tương ứng có phân phối chuẩn d-chiều $\\boldsymbol{X}_1 \\sim \\mathcal{N}_d(\\boldsymbol{\\mu}_1, \\Sigma_1)$ và $\\boldsymbol{X}_2 \\sim \\mathcal{N}_d(\\boldsymbol{\\mu}_2, \\Sigma_2)$, và ta có thêm giả thiết hai ma trận hiệp phương sai bằng nhau $\\Sigma_1 = \\Sigma_2 = \\Sigma$.\n",
    "* Bài toán đặt ra là ta cần so sánh hai vector kì vọng $\\boldsymbol{\\mu}_1$ và $\\boldsymbol{\\mu}_2$. Như vậy, giả thuyết gốc là $H_0: \\boldsymbol{\\mu}_1 = \\boldsymbol{\\mu}_2$ và đối thuyết $H_1: \\boldsymbol{\\mu}_1 \\neq \\boldsymbol{\\mu}_2$.\n",
    "* Gọi $\\overline{\\boldsymbol{x}}_i = \\dfrac{1}{n_i} \\sum_{j=1}^{n_i} \\boldsymbol{x}_{ij}$ và $\\boldsymbol{S}_i = \\dfrac{1}{n_i - 1} \\sum_{j=1}^{n_i} (\\boldsymbol{x}_{ij} - \\overline{\\boldsymbol{x}}_i)(\\boldsymbol{x}_{ij} - \\overline{\\boldsymbol{x}}_i)^T$ lần lượt là vector trung bình mẫu và ma trận hiệp phương sai mẫu của mẫu thứ $i$ ($i=1,2$). Xét tiêu chuẩn:\n",
    "$$T^2 = [\\overline{\\boldsymbol{x}}_1 - \\overline{\\boldsymbol{x}}_2 - (\\boldsymbol{\\mu}_1 - \\boldsymbol{\\mu}_2)]^T \\bigg[ \\bigg( \\dfrac{1}{n_1} + \\dfrac{1}{n_2} \\bigg) \\boldsymbol{S} \\bigg]^{-1} [\\overline{\\boldsymbol{x}}_1 - \\overline{\\boldsymbol{x}}_2 - (\\boldsymbol{\\mu}_1 - \\boldsymbol{\\mu}_2)] $$\n",
    "ở đó, $\\boldsymbol{S} = \\dfrac{1}{n_1 + n_2 - 2}[(n_1 - 1)\\boldsymbol{S}_1 + (n_2 - 1)\\boldsymbol{S}_2]$ là hiệp phương sai chung của hai mẫu.\n",
    "* Khi giả thuyết $H_0: \\boldsymbol{\\mu}_1 = \\boldsymbol{\\mu}_2$ đúng, thống kê $T^2$ ở trên tuân theo phân phối\n",
    "$$ T^2 \\sim \\dfrac{(n_1 + n_2 - 2)d}{n_1 + n_2 - d - 1} F_{d;n_1 + n_2 - d - 1} $$\n",
    "\n",
    "## Ví dụ: so sánh kích thước mai rùa\n",
    "* Kích thước mai rùa được đặc trưng bởi $d=3$ yếu tố: chiều dài, chiều rộng, chiều cao (mm).\n",
    "* Bộ dữ liệu gồm có 2 tập mẫu: dữ liệu kích thước mai rùa của $n_1 = 24$ con rùa cái và dữ liệu kích thước mai rùa của $n_2 = 24$ con rùa đực. "
   ]
  },
  {
   "cell_type": "code",
   "execution_count": 1,
   "metadata": {},
   "outputs": [],
   "source": [
    "import pandas as pd\n",
    "import numpy as np\n",
    "import matplotlib.pyplot as plt\n",
    "from scipy import stats\n",
    "from mpl_toolkits.mplot3d import Axes3D\n",
    "%matplotlib inline"
   ]
  },
  {
   "cell_type": "code",
   "execution_count": 2,
   "metadata": {},
   "outputs": [],
   "source": [
    "female = pd.read_csv(\"female.csv\")\n",
    "male = pd.read_csv(\"male.csv\")"
   ]
  },
  {
   "cell_type": "markdown",
   "metadata": {},
   "source": [
    "* Dữ liệu về kích thước mai rùa (sau khi đã lấy ln) của 24 con rùa cái:"
   ]
  },
  {
   "cell_type": "code",
   "execution_count": 3,
   "metadata": {},
   "outputs": [
    {
     "data": {
      "text/html": [
       "<div>\n",
       "<style scoped>\n",
       "    .dataframe tbody tr th:only-of-type {\n",
       "        vertical-align: middle;\n",
       "    }\n",
       "\n",
       "    .dataframe tbody tr th {\n",
       "        vertical-align: top;\n",
       "    }\n",
       "\n",
       "    .dataframe thead th {\n",
       "        text-align: right;\n",
       "    }\n",
       "</style>\n",
       "<table border=\"1\" class=\"dataframe\">\n",
       "  <thead>\n",
       "    <tr style=\"text-align: right;\">\n",
       "      <th></th>\n",
       "      <th>Length</th>\n",
       "      <th>Width</th>\n",
       "      <th>Height</th>\n",
       "    </tr>\n",
       "  </thead>\n",
       "  <tbody>\n",
       "    <tr>\n",
       "      <th>0</th>\n",
       "      <td>4.584967</td>\n",
       "      <td>4.394449</td>\n",
       "      <td>3.637586</td>\n",
       "    </tr>\n",
       "    <tr>\n",
       "      <th>1</th>\n",
       "      <td>4.634729</td>\n",
       "      <td>4.430817</td>\n",
       "      <td>3.637586</td>\n",
       "    </tr>\n",
       "    <tr>\n",
       "      <th>2</th>\n",
       "      <td>4.634729</td>\n",
       "      <td>4.454347</td>\n",
       "      <td>3.737670</td>\n",
       "    </tr>\n",
       "    <tr>\n",
       "      <th>3</th>\n",
       "      <td>4.653960</td>\n",
       "      <td>4.454347</td>\n",
       "      <td>3.737670</td>\n",
       "    </tr>\n",
       "    <tr>\n",
       "      <th>4</th>\n",
       "      <td>4.691348</td>\n",
       "      <td>4.477337</td>\n",
       "      <td>3.784190</td>\n",
       "    </tr>\n",
       "    <tr>\n",
       "      <th>5</th>\n",
       "      <td>4.812184</td>\n",
       "      <td>4.521789</td>\n",
       "      <td>3.912023</td>\n",
       "    </tr>\n",
       "    <tr>\n",
       "      <th>6</th>\n",
       "      <td>4.812184</td>\n",
       "      <td>4.553877</td>\n",
       "      <td>3.828641</td>\n",
       "    </tr>\n",
       "    <tr>\n",
       "      <th>7</th>\n",
       "      <td>4.890349</td>\n",
       "      <td>4.595120</td>\n",
       "      <td>3.931826</td>\n",
       "    </tr>\n",
       "    <tr>\n",
       "      <th>8</th>\n",
       "      <td>4.890349</td>\n",
       "      <td>4.615121</td>\n",
       "      <td>3.931826</td>\n",
       "    </tr>\n",
       "    <tr>\n",
       "      <th>9</th>\n",
       "      <td>4.890349</td>\n",
       "      <td>4.624973</td>\n",
       "      <td>3.931826</td>\n",
       "    </tr>\n",
       "    <tr>\n",
       "      <th>10</th>\n",
       "      <td>4.897840</td>\n",
       "      <td>4.605170</td>\n",
       "      <td>3.871201</td>\n",
       "    </tr>\n",
       "    <tr>\n",
       "      <th>11</th>\n",
       "      <td>4.912655</td>\n",
       "      <td>4.624973</td>\n",
       "      <td>3.891820</td>\n",
       "    </tr>\n",
       "    <tr>\n",
       "      <th>12</th>\n",
       "      <td>4.927254</td>\n",
       "      <td>4.584967</td>\n",
       "      <td>3.931826</td>\n",
       "    </tr>\n",
       "    <tr>\n",
       "      <th>13</th>\n",
       "      <td>4.927254</td>\n",
       "      <td>4.595120</td>\n",
       "      <td>3.931826</td>\n",
       "    </tr>\n",
       "    <tr>\n",
       "      <th>14</th>\n",
       "      <td>4.948760</td>\n",
       "      <td>4.653960</td>\n",
       "      <td>3.970292</td>\n",
       "    </tr>\n",
       "    <tr>\n",
       "      <th>15</th>\n",
       "      <td>4.990433</td>\n",
       "      <td>4.682131</td>\n",
       "      <td>4.043051</td>\n",
       "    </tr>\n",
       "    <tr>\n",
       "      <th>16</th>\n",
       "      <td>5.003946</td>\n",
       "      <td>4.672829</td>\n",
       "      <td>4.007333</td>\n",
       "    </tr>\n",
       "    <tr>\n",
       "      <th>17</th>\n",
       "      <td>5.030438</td>\n",
       "      <td>4.672829</td>\n",
       "      <td>4.025352</td>\n",
       "    </tr>\n",
       "    <tr>\n",
       "      <th>18</th>\n",
       "      <td>5.043425</td>\n",
       "      <td>4.744932</td>\n",
       "      <td>4.143135</td>\n",
       "    </tr>\n",
       "    <tr>\n",
       "      <th>19</th>\n",
       "      <td>5.043425</td>\n",
       "      <td>4.762174</td>\n",
       "      <td>4.094345</td>\n",
       "    </tr>\n",
       "    <tr>\n",
       "      <th>20</th>\n",
       "      <td>5.062595</td>\n",
       "      <td>4.744932</td>\n",
       "      <td>4.127134</td>\n",
       "    </tr>\n",
       "    <tr>\n",
       "      <th>21</th>\n",
       "      <td>5.068904</td>\n",
       "      <td>4.770685</td>\n",
       "      <td>4.143135</td>\n",
       "    </tr>\n",
       "    <tr>\n",
       "      <th>22</th>\n",
       "      <td>5.087596</td>\n",
       "      <td>4.820282</td>\n",
       "      <td>4.110874</td>\n",
       "    </tr>\n",
       "    <tr>\n",
       "      <th>23</th>\n",
       "      <td>5.176150</td>\n",
       "      <td>4.882802</td>\n",
       "      <td>4.204693</td>\n",
       "    </tr>\n",
       "  </tbody>\n",
       "</table>\n",
       "</div>"
      ],
      "text/plain": [
       "      Length     Width    Height\n",
       "0   4.584967  4.394449  3.637586\n",
       "1   4.634729  4.430817  3.637586\n",
       "2   4.634729  4.454347  3.737670\n",
       "3   4.653960  4.454347  3.737670\n",
       "4   4.691348  4.477337  3.784190\n",
       "5   4.812184  4.521789  3.912023\n",
       "6   4.812184  4.553877  3.828641\n",
       "7   4.890349  4.595120  3.931826\n",
       "8   4.890349  4.615121  3.931826\n",
       "9   4.890349  4.624973  3.931826\n",
       "10  4.897840  4.605170  3.871201\n",
       "11  4.912655  4.624973  3.891820\n",
       "12  4.927254  4.584967  3.931826\n",
       "13  4.927254  4.595120  3.931826\n",
       "14  4.948760  4.653960  3.970292\n",
       "15  4.990433  4.682131  4.043051\n",
       "16  5.003946  4.672829  4.007333\n",
       "17  5.030438  4.672829  4.025352\n",
       "18  5.043425  4.744932  4.143135\n",
       "19  5.043425  4.762174  4.094345\n",
       "20  5.062595  4.744932  4.127134\n",
       "21  5.068904  4.770685  4.143135\n",
       "22  5.087596  4.820282  4.110874\n",
       "23  5.176150  4.882802  4.204693"
      ]
     },
     "execution_count": 3,
     "metadata": {},
     "output_type": "execute_result"
    }
   ],
   "source": [
    "female = np.log(female)\n",
    "female"
   ]
  },
  {
   "cell_type": "markdown",
   "metadata": {},
   "source": [
    "* Dữ liệu về kích thước mai rùa (sau khi đã lấy ln) của 24 con rùa đực:"
   ]
  },
  {
   "cell_type": "code",
   "execution_count": 4,
   "metadata": {},
   "outputs": [
    {
     "data": {
      "text/html": [
       "<div>\n",
       "<style scoped>\n",
       "    .dataframe tbody tr th:only-of-type {\n",
       "        vertical-align: middle;\n",
       "    }\n",
       "\n",
       "    .dataframe tbody tr th {\n",
       "        vertical-align: top;\n",
       "    }\n",
       "\n",
       "    .dataframe thead th {\n",
       "        text-align: right;\n",
       "    }\n",
       "</style>\n",
       "<table border=\"1\" class=\"dataframe\">\n",
       "  <thead>\n",
       "    <tr style=\"text-align: right;\">\n",
       "      <th></th>\n",
       "      <th>Length</th>\n",
       "      <th>Width</th>\n",
       "      <th>Height</th>\n",
       "    </tr>\n",
       "  </thead>\n",
       "  <tbody>\n",
       "    <tr>\n",
       "      <th>0</th>\n",
       "      <td>4.532599</td>\n",
       "      <td>4.304065</td>\n",
       "      <td>3.610918</td>\n",
       "    </tr>\n",
       "    <tr>\n",
       "      <th>1</th>\n",
       "      <td>4.543295</td>\n",
       "      <td>4.356709</td>\n",
       "      <td>3.555348</td>\n",
       "    </tr>\n",
       "    <tr>\n",
       "      <th>2</th>\n",
       "      <td>4.564348</td>\n",
       "      <td>4.382027</td>\n",
       "      <td>3.555348</td>\n",
       "    </tr>\n",
       "    <tr>\n",
       "      <th>3</th>\n",
       "      <td>4.615121</td>\n",
       "      <td>4.430817</td>\n",
       "      <td>3.663562</td>\n",
       "    </tr>\n",
       "    <tr>\n",
       "      <th>4</th>\n",
       "      <td>4.624973</td>\n",
       "      <td>4.442651</td>\n",
       "      <td>3.637586</td>\n",
       "    </tr>\n",
       "    <tr>\n",
       "      <th>5</th>\n",
       "      <td>4.634729</td>\n",
       "      <td>4.394449</td>\n",
       "      <td>3.610918</td>\n",
       "    </tr>\n",
       "    <tr>\n",
       "      <th>6</th>\n",
       "      <td>4.644391</td>\n",
       "      <td>4.418841</td>\n",
       "      <td>3.663562</td>\n",
       "    </tr>\n",
       "    <tr>\n",
       "      <th>7</th>\n",
       "      <td>4.663439</td>\n",
       "      <td>4.418841</td>\n",
       "      <td>3.663562</td>\n",
       "    </tr>\n",
       "    <tr>\n",
       "      <th>8</th>\n",
       "      <td>4.672829</td>\n",
       "      <td>4.406719</td>\n",
       "      <td>3.637586</td>\n",
       "    </tr>\n",
       "    <tr>\n",
       "      <th>9</th>\n",
       "      <td>4.718499</td>\n",
       "      <td>4.488636</td>\n",
       "      <td>3.688879</td>\n",
       "    </tr>\n",
       "    <tr>\n",
       "      <th>10</th>\n",
       "      <td>4.727388</td>\n",
       "      <td>4.477337</td>\n",
       "      <td>3.688879</td>\n",
       "    </tr>\n",
       "    <tr>\n",
       "      <th>11</th>\n",
       "      <td>4.736198</td>\n",
       "      <td>4.454347</td>\n",
       "      <td>3.688879</td>\n",
       "    </tr>\n",
       "    <tr>\n",
       "      <th>12</th>\n",
       "      <td>4.753590</td>\n",
       "      <td>4.499810</td>\n",
       "      <td>3.761200</td>\n",
       "    </tr>\n",
       "    <tr>\n",
       "      <th>13</th>\n",
       "      <td>4.762174</td>\n",
       "      <td>4.499810</td>\n",
       "      <td>3.713572</td>\n",
       "    </tr>\n",
       "    <tr>\n",
       "      <th>14</th>\n",
       "      <td>4.762174</td>\n",
       "      <td>4.510860</td>\n",
       "      <td>3.713572</td>\n",
       "    </tr>\n",
       "    <tr>\n",
       "      <th>15</th>\n",
       "      <td>4.779123</td>\n",
       "      <td>4.532599</td>\n",
       "      <td>3.713572</td>\n",
       "    </tr>\n",
       "    <tr>\n",
       "      <th>16</th>\n",
       "      <td>4.787492</td>\n",
       "      <td>4.488636</td>\n",
       "      <td>3.688879</td>\n",
       "    </tr>\n",
       "    <tr>\n",
       "      <th>17</th>\n",
       "      <td>4.787492</td>\n",
       "      <td>4.532599</td>\n",
       "      <td>3.784190</td>\n",
       "    </tr>\n",
       "    <tr>\n",
       "      <th>18</th>\n",
       "      <td>4.795791</td>\n",
       "      <td>4.553877</td>\n",
       "      <td>3.737670</td>\n",
       "    </tr>\n",
       "    <tr>\n",
       "      <th>19</th>\n",
       "      <td>4.828314</td>\n",
       "      <td>4.532599</td>\n",
       "      <td>3.806662</td>\n",
       "    </tr>\n",
       "    <tr>\n",
       "      <th>20</th>\n",
       "      <td>4.844187</td>\n",
       "      <td>4.564348</td>\n",
       "      <td>3.806662</td>\n",
       "    </tr>\n",
       "    <tr>\n",
       "      <th>21</th>\n",
       "      <td>4.852030</td>\n",
       "      <td>4.553877</td>\n",
       "      <td>3.806662</td>\n",
       "    </tr>\n",
       "    <tr>\n",
       "      <th>22</th>\n",
       "      <td>4.875197</td>\n",
       "      <td>4.553877</td>\n",
       "      <td>3.828641</td>\n",
       "    </tr>\n",
       "    <tr>\n",
       "      <th>23</th>\n",
       "      <td>4.905275</td>\n",
       "      <td>4.663439</td>\n",
       "      <td>3.850148</td>\n",
       "    </tr>\n",
       "  </tbody>\n",
       "</table>\n",
       "</div>"
      ],
      "text/plain": [
       "      Length     Width    Height\n",
       "0   4.532599  4.304065  3.610918\n",
       "1   4.543295  4.356709  3.555348\n",
       "2   4.564348  4.382027  3.555348\n",
       "3   4.615121  4.430817  3.663562\n",
       "4   4.624973  4.442651  3.637586\n",
       "5   4.634729  4.394449  3.610918\n",
       "6   4.644391  4.418841  3.663562\n",
       "7   4.663439  4.418841  3.663562\n",
       "8   4.672829  4.406719  3.637586\n",
       "9   4.718499  4.488636  3.688879\n",
       "10  4.727388  4.477337  3.688879\n",
       "11  4.736198  4.454347  3.688879\n",
       "12  4.753590  4.499810  3.761200\n",
       "13  4.762174  4.499810  3.713572\n",
       "14  4.762174  4.510860  3.713572\n",
       "15  4.779123  4.532599  3.713572\n",
       "16  4.787492  4.488636  3.688879\n",
       "17  4.787492  4.532599  3.784190\n",
       "18  4.795791  4.553877  3.737670\n",
       "19  4.828314  4.532599  3.806662\n",
       "20  4.844187  4.564348  3.806662\n",
       "21  4.852030  4.553877  3.806662\n",
       "22  4.875197  4.553877  3.828641\n",
       "23  4.905275  4.663439  3.850148"
      ]
     },
     "execution_count": 4,
     "metadata": {},
     "output_type": "execute_result"
    }
   ],
   "source": [
    "male = np.log(male)\n",
    "male"
   ]
  },
  {
   "cell_type": "markdown",
   "metadata": {},
   "source": [
    "* Số chiều $d$:"
   ]
  },
  {
   "cell_type": "code",
   "execution_count": 5,
   "metadata": {},
   "outputs": [
    {
     "name": "stdout",
     "output_type": "stream",
     "text": [
      "d = 3\n"
     ]
    }
   ],
   "source": [
    "d = female.shape[1]\n",
    "print(\"d = %i\" % d)"
   ]
  },
  {
   "cell_type": "markdown",
   "metadata": {},
   "source": [
    "* Kích thước mẫu thứ nhất $n_1$:"
   ]
  },
  {
   "cell_type": "code",
   "execution_count": 6,
   "metadata": {},
   "outputs": [
    {
     "name": "stdout",
     "output_type": "stream",
     "text": [
      "n_1 = 24\n"
     ]
    }
   ],
   "source": [
    "n_female = female.shape[0]\n",
    "print(\"n_1 = %i\" % n_female)"
   ]
  },
  {
   "cell_type": "markdown",
   "metadata": {},
   "source": [
    "* Kích thước mẫu thứ hai $n_2$:"
   ]
  },
  {
   "cell_type": "code",
   "execution_count": 7,
   "metadata": {},
   "outputs": [
    {
     "name": "stdout",
     "output_type": "stream",
     "text": [
      "n_2 = 24\n"
     ]
    }
   ],
   "source": [
    "n_male = male.shape[0]\n",
    "print(\"n_2 = %i\" % n_male)"
   ]
  },
  {
   "cell_type": "markdown",
   "metadata": {},
   "source": [
    "* Trung bình mẫu thứ nhất $\\overline{\\boldsymbol{x}}_1$:"
   ]
  },
  {
   "cell_type": "code",
   "execution_count": 8,
   "metadata": {},
   "outputs": [
    {
     "name": "stdout",
     "output_type": "stream",
     "text": [
      "[[4.90065934]\n",
      " [4.62249841]\n",
      " [3.94028575]]\n"
     ]
    }
   ],
   "source": [
    "female_mean = female.mean().values.reshape(-1,1)\n",
    "print(female_mean)"
   ]
  },
  {
   "cell_type": "markdown",
   "metadata": {},
   "source": [
    "* Trung bình mẫu thứ hai $\\overline{\\boldsymbol{x}}_2$:"
   ]
  },
  {
   "cell_type": "code",
   "execution_count": 9,
   "metadata": {},
   "outputs": [
    {
     "name": "stdout",
     "output_type": "stream",
     "text": [
      "[[4.72544365]\n",
      " [4.47757377]\n",
      " [3.70318579]]\n"
     ]
    }
   ],
   "source": [
    "male_mean = male.mean().values.reshape(-1,1)\n",
    "print(male_mean)"
   ]
  },
  {
   "cell_type": "markdown",
   "metadata": {},
   "source": [
    "* Ma trận hiệp phương sai mẫu thứ nhất $\\boldsymbol{S}_1$:"
   ]
  },
  {
   "cell_type": "code",
   "execution_count": 10,
   "metadata": {},
   "outputs": [
    {
     "data": {
      "text/html": [
       "<div>\n",
       "<style scoped>\n",
       "    .dataframe tbody tr th:only-of-type {\n",
       "        vertical-align: middle;\n",
       "    }\n",
       "\n",
       "    .dataframe tbody tr th {\n",
       "        vertical-align: top;\n",
       "    }\n",
       "\n",
       "    .dataframe thead th {\n",
       "        text-align: right;\n",
       "    }\n",
       "</style>\n",
       "<table border=\"1\" class=\"dataframe\">\n",
       "  <thead>\n",
       "    <tr style=\"text-align: right;\">\n",
       "      <th></th>\n",
       "      <th>Length</th>\n",
       "      <th>Width</th>\n",
       "      <th>Height</th>\n",
       "    </tr>\n",
       "  </thead>\n",
       "  <tbody>\n",
       "    <tr>\n",
       "      <th>Length</th>\n",
       "      <td>0.026406</td>\n",
       "      <td>0.020116</td>\n",
       "      <td>0.024918</td>\n",
       "    </tr>\n",
       "    <tr>\n",
       "      <th>Width</th>\n",
       "      <td>0.020116</td>\n",
       "      <td>0.016193</td>\n",
       "      <td>0.019428</td>\n",
       "    </tr>\n",
       "    <tr>\n",
       "      <th>Height</th>\n",
       "      <td>0.024918</td>\n",
       "      <td>0.019428</td>\n",
       "      <td>0.024940</td>\n",
       "    </tr>\n",
       "  </tbody>\n",
       "</table>\n",
       "</div>"
      ],
      "text/plain": [
       "          Length     Width    Height\n",
       "Length  0.026406  0.020116  0.024918\n",
       "Width   0.020116  0.016193  0.019428\n",
       "Height  0.024918  0.019428  0.024940"
      ]
     },
     "execution_count": 10,
     "metadata": {},
     "output_type": "execute_result"
    }
   ],
   "source": [
    "female_cov = female.cov().values\n",
    "female.cov()"
   ]
  },
  {
   "cell_type": "markdown",
   "metadata": {},
   "source": [
    "* Ma trận hiệp phương sai mẫu thứ hai $\\boldsymbol{S}_2$:"
   ]
  },
  {
   "cell_type": "code",
   "execution_count": 11,
   "metadata": {},
   "outputs": [
    {
     "data": {
      "text/html": [
       "<div>\n",
       "<style scoped>\n",
       "    .dataframe tbody tr th:only-of-type {\n",
       "        vertical-align: middle;\n",
       "    }\n",
       "\n",
       "    .dataframe tbody tr th {\n",
       "        vertical-align: top;\n",
       "    }\n",
       "\n",
       "    .dataframe thead th {\n",
       "        text-align: right;\n",
       "    }\n",
       "</style>\n",
       "<table border=\"1\" class=\"dataframe\">\n",
       "  <thead>\n",
       "    <tr style=\"text-align: right;\">\n",
       "      <th></th>\n",
       "      <th>Length</th>\n",
       "      <th>Width</th>\n",
       "      <th>Height</th>\n",
       "    </tr>\n",
       "  </thead>\n",
       "  <tbody>\n",
       "    <tr>\n",
       "      <th>Length</th>\n",
       "      <td>0.011072</td>\n",
       "      <td>0.008019</td>\n",
       "      <td>0.008160</td>\n",
       "    </tr>\n",
       "    <tr>\n",
       "      <th>Width</th>\n",
       "      <td>0.008019</td>\n",
       "      <td>0.006417</td>\n",
       "      <td>0.006005</td>\n",
       "    </tr>\n",
       "    <tr>\n",
       "      <th>Height</th>\n",
       "      <td>0.008160</td>\n",
       "      <td>0.006005</td>\n",
       "      <td>0.006773</td>\n",
       "    </tr>\n",
       "  </tbody>\n",
       "</table>\n",
       "</div>"
      ],
      "text/plain": [
       "          Length     Width    Height\n",
       "Length  0.011072  0.008019  0.008160\n",
       "Width   0.008019  0.006417  0.006005\n",
       "Height  0.008160  0.006005  0.006773"
      ]
     },
     "execution_count": 11,
     "metadata": {},
     "output_type": "execute_result"
    }
   ],
   "source": [
    "male_cov = male.cov().values\n",
    "male.cov()"
   ]
  },
  {
   "cell_type": "markdown",
   "metadata": {},
   "source": [
    "* Biểu đồ biểu diễn các điểm dữ liệu trong bộ dữ liệu:"
   ]
  },
  {
   "cell_type": "code",
   "execution_count": 12,
   "metadata": {},
   "outputs": [
    {
     "data": {
      "image/png": "[encoded data removed]",
      "text/plain": [
       "<matplotlib.figure.Figure at 0x29f40d52b00>"
      ]
     },
     "metadata": {},
     "output_type": "display_data"
    }
   ],
   "source": [
    "fig = plt.figure(figsize=(12,10))\n",
    "ax = plt.axes(projection='3d')\n",
    "ax.scatter3D(male.Length,male.Width,male.Height,c='red',label='male')\n",
    "ax.scatter3D(male.mean().Length,male.mean().Width,male.mean().Height,c='red',marker='x',label='mean(male)')\n",
    "ax.scatter3D(female.Length,female.Width,female.Height,c='blue',label='female')\n",
    "ax.scatter3D(female.mean().Length,female.mean().Width,female.mean().Height,c='blue',marker='x',label='mean(female)')\n",
    "ax.set_xlabel('Length')\n",
    "ax.set_ylabel('Width')\n",
    "ax.set_zlabel('Height')\n",
    "ax.legend()\n",
    "plt.show()"
   ]
  },
  {
   "cell_type": "markdown",
   "metadata": {},
   "source": [
    "* Phân phối Fisher: biến ngẫu nhiên $X$ tuân theo phân phối Fisher với các tham số $d_1$ và $d_2$, kí hiệu là $X \\sim F_{d_1;d_2}$. Hàm mật độ của phân phối Fisher:\n",
    "$$ f(x; d_1,d_2) = \\dfrac{\\sqrt{\\dfrac{(d_1 x)^{d_1}(d_2)^{d_2}}{(d_1 x + d_2)^{d_1 + d_2}}}}{x B\\bigg( \\dfrac{d_1}{2}, \\dfrac{d_2}{2} \\bigg)}, \\quad x \\geq 0 $$\n",
    "trong đó, $B(x,y)$ là hàm beta:\n",
    "$$B(x,y) = \\int_0^1 t^{x-1} (1-t)^{y-1} dt$$\n",
    "* $T^2 \\sim \\dfrac{(n_1 + n_2 - 2)d}{n_1 + n_2 - d - 1} F_{d;n_1 + n_2 - d - 1}$. Cụ thể, ta có $n_1 = 24, n_2 = 24, d = 3$ nên $T^2 \\sim \\dfrac{138}{44} F_{3;44}$.\n",
    "* Dưới đây là đồ thị hàm mật độ xác suất của $T^2$: "
   ]
  },
  {
   "cell_type": "code",
   "execution_count": 13,
   "metadata": {},
   "outputs": [
    {
     "data": {
      "image/png": "[encoded data removed]",
      "text/plain": [
       "<matplotlib.figure.Figure at 0x29f3c8f7da0>"
      ]
     },
     "metadata": {},
     "output_type": "display_data"
    }
   ],
   "source": [
    "d1 = d\n",
    "d2 = n_male + n_female - d - 1\n",
    "rv = stats.f(dfn=d1,dfd=d2,scale=(d1 + d2 - 1) * d1 / d2)\n",
    "x = np.arange(0.001,20,0.01)\n",
    "plt.figure(figsize=(12,10))\n",
    "plt.xlabel('x')\n",
    "plt.ylabel('pdf(x)')\n",
    "plt.title(r'pdf of $T^2 \\sim \\dfrac{(n_1 + n_2 - 2)d}{n_1 + n_2 - d - 1} F_{d;n_1 + n_2 - d - 1}$')\n",
    "plt.plot(x, rv.pdf(x))\n",
    "plt.show()"
   ]
  },
  {
   "cell_type": "markdown",
   "metadata": {},
   "source": [
    "* Kiểm định giả thuyết: \n",
    "    * Do đối thuyết $H_1: \\boldsymbol{\\mu}_1 \\neq \\boldsymbol{\\mu}_2$ nên miền tới hạn là hai phía.\n",
    "    * Mức ý nghĩa $\\alpha = 0.05$.\n",
    "    * Giá trị tới hạn trái: $T^2_{\\alpha / 2}$ thỏa mãn \n",
    "    $$P(T^2 < T^2_{\\alpha / 2}) = \\dfrac{\\alpha}{2}$$\n",
    "    hay \n",
    "    $$T^2_{\\alpha / 2} = Q(\\dfrac{\\alpha}{2}).$$\n",
    "    $Q(x) = F^{-1}(x)$ là hàm ngược của hàm phân phối tích lũy, được gọi là hàm phân vị (quantile/percent-point function).\n",
    "    * Giá trị tới hạn phải: $T^2_{1 - \\alpha / 2}$ thỏa mãn \n",
    "    $$P(T^2 > T^2_{1 - \\alpha / 2}) = \\dfrac{\\alpha}{2}$$\n",
    "    hay \n",
    "    $$T^2_{\\alpha / 2} = S^{-1}(\\dfrac{\\alpha}{2}).$$\n",
    "    $S(x) = 1 - F(x)$ được gọi là hàm sinh tồn (survival function).\n",
    "    * Miền tới hạn: $B_{\\alpha} = (0, T^2_{\\alpha / 2}) \\cup (T^2_{1 - \\alpha / 2}, +\\infty)$"
   ]
  },
  {
   "cell_type": "code",
   "execution_count": 14,
   "metadata": {},
   "outputs": [],
   "source": [
    "def hypothesis_testing(sample_mean1, sample_mean2, sample_cov1, sample_cov2, n1, n2, d, alpha = 0.05):\n",
    "    common_sample_cov = ((n1 - 1) * sample_cov1 + (n2 - 1) * sample_cov2) / (n1 + n2 - 2)\n",
    "    statistic = (sample_mean1 - sample_mean2).T @ np.linalg.inv((1 / n1 + 1 / n2) * common_sample_cov) @ (sample_mean1 - sample_mean2)\n",
    "    statistic = np.asscalar(statistic)\n",
    "    \n",
    "    d1 = d\n",
    "    d2 = n1 + n2 - d - 1\n",
    "    rv = stats.f(dfn=d1,dfd=d2,scale=(d1 + d2 - 1) * d1 / d2)\n",
    "    \n",
    "    critical_value_lower = rv.ppf(alpha / 2)\n",
    "    critical_value_upper = rv.isf(alpha / 2)\n",
    "    return (statistic,critical_value_lower,critical_value_upper)"
   ]
  },
  {
   "cell_type": "markdown",
   "metadata": {},
   "source": [
    "* Với mức ý nghĩa $\\alpha = 0.05$:"
   ]
  },
  {
   "cell_type": "code",
   "execution_count": 15,
   "metadata": {},
   "outputs": [],
   "source": [
    "statistic,critical_value_lower,critical_value_upper = hypothesis_testing(female_mean, male_mean, female_cov, male_cov, n_female, n_male, d)"
   ]
  },
  {
   "cell_type": "markdown",
   "metadata": {},
   "source": [
    "* Giá trị tới hạn trái $T^2_{\\alpha / 2}$"
   ]
  },
  {
   "cell_type": "code",
   "execution_count": 16,
   "metadata": {},
   "outputs": [
    {
     "name": "stdout",
     "output_type": "stream",
     "text": [
      "lower critical value: 0.223636\n"
     ]
    }
   ],
   "source": [
    "print(\"lower critical value: %f\" % critical_value_lower)"
   ]
  },
  {
   "cell_type": "markdown",
   "metadata": {},
   "source": [
    "* Giá trị tới hạn phải $T^2_{1 - \\alpha / 2}$"
   ]
  },
  {
   "cell_type": "code",
   "execution_count": 17,
   "metadata": {},
   "outputs": [
    {
     "name": "stdout",
     "output_type": "stream",
     "text": [
      "upper critical value: 10.757131 \n"
     ]
    }
   ],
   "source": [
    "print(\"upper critical value: %f \" % critical_value_upper)"
   ]
  },
  {
   "cell_type": "markdown",
   "metadata": {},
   "source": [
    "* Đồ thị biểu diễn các giá trị tới hạn trái, giá trị tới hạn phải, miền tới hạn:"
   ]
  },
  {
   "cell_type": "code",
   "execution_count": 18,
   "metadata": {},
   "outputs": [
    {
     "data": {
      "image/png": "[encoded data removed]",
      "text/plain": [
       "<matplotlib.figure.Figure at 0x29f4166d358>"
      ]
     },
     "metadata": {},
     "output_type": "display_data"
    }
   ],
   "source": [
    "plt.figure(figsize=(12,10))\n",
    "plt.xlabel('x')\n",
    "plt.ylabel('pdf(x)')\n",
    "plt.title(r'Hypothesis testing - mean comparison with $H_0$: $\\mu_1 = \\mu_2$ vs. $H_1$: $\\mu_1 \\neq \\mu_2$')\n",
    "\n",
    "x = np.arange(0.001,critical_value_lower,0.01)\n",
    "plt.fill_between(x, rv.pdf(x) ,facecolor='red', alpha=0.35, label = 'Critical region')\n",
    "plt.vlines(critical_value_lower,0,rv.pdf(critical_value_lower),linestyles='--')\n",
    "x = np.arange(critical_value_lower,critical_value_upper,0.01)\n",
    "plt.fill_between(x, rv.pdf(x) ,facecolor='white', alpha=0.35)\n",
    "x = np.arange(critical_value_upper,20,0.01)\n",
    "plt.fill_between(x, rv.pdf(x) ,facecolor='red', alpha=0.35)\n",
    "plt.vlines(critical_value_upper,0,rv.pdf(critical_value_upper),linestyles='--')\n",
    "x = np.arange(0.001,20,0.01)\n",
    "plt.plot(x, rv.pdf(x))\n",
    "\n",
    "xticks_locs = list(plt.xticks()[0]) + [round(critical_value_lower,2), round(critical_value_upper,2)]\n",
    "xticks_locs.sort()\n",
    "xticks_labels = list(xticks_locs)\n",
    "xticks_labels[1] = ''\n",
    "xticks_labels[6] = ''\n",
    "xticks_labels = tuple(xticks_labels)\n",
    "plt.xticks(xticks_locs, xticks_labels)\n",
    "plt.legend()\n",
    "plt.show()"
   ]
  },
  {
   "cell_type": "markdown",
   "metadata": {},
   "source": [
    "* Giá trị quan sát được của $T^2$"
   ]
  },
  {
   "cell_type": "code",
   "execution_count": 19,
   "metadata": {},
   "outputs": [
    {
     "name": "stdout",
     "output_type": "stream",
     "text": [
      "observed T^2 statistic value: 85.145652\n"
     ]
    }
   ],
   "source": [
    "print(\"observed T^2 statistic value: %f\" % statistic)"
   ]
  },
  {
   "cell_type": "markdown",
   "metadata": {},
   "source": [
    "* Giá trị quan sát được của $T^2$ nằm trong miền bác bỏ $B_{\\alpha}$. Như vậy, với mức ý nghĩa $\\alpha = 0.05$, ta bác bỏ giả thuyết $H_0: \\boldsymbol{\\mu}_1 = \\boldsymbol{\\mu}_2$."
   ]
  },
  {
   "cell_type": "markdown",
   "metadata": {
    "variables": {
     "\"{:.4f}\".format(female_mean.item(0) - male_mean.item(0))": "0.1752",
     "\"{:.4f}\".format(female_mean.item(1) - male_mean.item(1))": "0.1449",
     "\"{:.4f}\".format(female_mean.item(2) - male_mean.item(2))": "0.2371"
    }
   },
   "source": [
    "## Miền tin cậy, khoảng tin cậy đồng thời và khoảng tin cậy Bonferroni\n",
    "* Miền tin cậy 100(1 - $\\alpha$)% của hiệu hai trung bình $\\boldsymbol{\\mu}_1 - \\boldsymbol{\\mu}_2$ là ellipsoid: \n",
    "$$[\\overline{\\boldsymbol{x}}_1 - \\overline{\\boldsymbol{x}}_2 - (\\boldsymbol{\\mu}_1 - \\boldsymbol{\\mu}_2)]^T \\bigg[ \\bigg( \\dfrac{1}{n_1} + \\dfrac{1}{n_2} \\bigg) \\boldsymbol{S} \\bigg]^{-1} [\\overline{\\boldsymbol{x}}_1 - \\overline{\\boldsymbol{x}}_2 - (\\boldsymbol{\\mu}_1 - \\boldsymbol{\\mu}_2)] \\leq c^2$$\n",
    "với $\\boldsymbol{S} = \\dfrac{1}{n_1 + n_2 - 2}[(n_1 - 1)\\boldsymbol{S}_1 + (n_2 - 1)\\boldsymbol{S}_2]$ và $c^2 = \\dfrac{(n_1 + n_2 - 2)d}{n_1 + n_2 - d - 1} F_{d;n_1 + n_2 - d - 1} (\\alpha)$  ($F_{d;n_1 + n_2 - d - 1} (\\alpha)$ là giá trị hàm sinh tồn của phân phối tại $\\alpha$).\n",
    "    * Tâm của ellipsoid là $\\overline{\\boldsymbol{x}}_1 - \\overline{\\boldsymbol{x}}_2 =$ ({{\"{:.4f}\".format(female_mean.item(0) - male_mean.item(0))}}, {{\"{:.4f}\".format(female_mean.item(1) - male_mean.item(1))}}, {{\"{:.4f}\".format(female_mean.item(2) - male_mean.item(2))}})$^T$\n",
    "    * Các trị riêng và vector riêng của ma trận $\\boldsymbol{S}$:"
   ]
  },
  {
   "cell_type": "code",
   "execution_count": 20,
   "metadata": {},
   "outputs": [],
   "source": [
    "S = ((n_female - 1) * female_cov + (n_male - 1) * male_cov) / (n_female + n_male - 2)\n",
    "eigenvalues, eigenvectors = np.linalg.eig(S)"
   ]
  },
  {
   "cell_type": "markdown",
   "metadata": {},
   "source": [
    "Trị riêng $\\lambda_1$ và vector riêng $\\boldsymbol{e}_1$ tương ứng:"
   ]
  },
  {
   "cell_type": "code",
   "execution_count": 21,
   "metadata": {},
   "outputs": [
    {
     "name": "stdout",
     "output_type": "stream",
     "text": [
      "lambda_1: 0.044675\n",
      "e_1:\n",
      "[-0.64190506 -0.49406598 -0.58639296]\n"
     ]
    }
   ],
   "source": [
    "print(\"lambda_1: %f\" % eigenvalues[0])\n",
    "print(\"e_1:\")\n",
    "print(eigenvectors[:,0])"
   ]
  },
  {
   "cell_type": "markdown",
   "metadata": {},
   "source": [
    "Trị riêng $\\lambda_2$ và vector riêng $\\boldsymbol{e}_2$ tương ứng:"
   ]
  },
  {
   "cell_type": "code",
   "execution_count": 22,
   "metadata": {},
   "outputs": [
    {
     "name": "stdout",
     "output_type": "stream",
     "text": [
      "lambda_2: 0.000471\n",
      "e_2:\n",
      "[-0.63012581  0.77564614  0.03625654]\n"
     ]
    }
   ],
   "source": [
    "print(\"lambda_2: %f\" % eigenvalues[1])\n",
    "print(\"e_2:\")\n",
    "print(eigenvectors[:,1])"
   ]
  },
  {
   "cell_type": "markdown",
   "metadata": {},
   "source": [
    "Trị riêng $\\lambda_3$ và vector riêng $\\boldsymbol{e}_3$ tương ứng:"
   ]
  },
  {
   "cell_type": "code",
   "execution_count": 23,
   "metadata": {},
   "outputs": [
    {
     "name": "stdout",
     "output_type": "stream",
     "text": [
      "lambda_3: 0.000754\n",
      "e_3:\n",
      "[-0.43692031 -0.39277459  0.80921491]\n"
     ]
    }
   ],
   "source": [
    "print(\"lambda_3: %f\" % eigenvalues[2])\n",
    "print(\"e_3:\")\n",
    "print(eigenvectors[:,2])"
   ]
  },
  {
   "cell_type": "markdown",
   "metadata": {},
   "source": [
    "Giá trị $c^2$ tính được là:"
   ]
  },
  {
   "cell_type": "code",
   "execution_count": 24,
   "metadata": {},
   "outputs": [
    {
     "name": "stdout",
     "output_type": "stream",
     "text": [
      "c^2 = 8.833461\n"
     ]
    }
   ],
   "source": [
    "alpha = 0.05\n",
    "c_squared = rv.isf(alpha)\n",
    "print(\"c^2 = %f\" % c_squared)"
   ]
  },
  {
   "cell_type": "markdown",
   "metadata": {},
   "source": [
    "Bán trục 1 có độ dài $\\sqrt{\\lambda_1 \\bigg( \\dfrac{1}{n_1} + \\dfrac{1}{n_2} \\bigg) c^2}$:"
   ]
  },
  {
   "cell_type": "code",
   "execution_count": 25,
   "metadata": {},
   "outputs": [
    {
     "data": {
      "text/plain": [
       "0.1813455063728268"
      ]
     },
     "execution_count": 25,
     "metadata": {},
     "output_type": "execute_result"
    }
   ],
   "source": [
    "np.sqrt(eigenvalues[0] * (1 / n_female + 1 / n_male) * c_squared)"
   ]
  },
  {
   "cell_type": "markdown",
   "metadata": {},
   "source": [
    "Bán trục 2 có độ dài $\\sqrt{\\lambda_2 \\bigg( \\dfrac{1}{n_1} + \\dfrac{1}{n_2} \\bigg) c^2}$:"
   ]
  },
  {
   "cell_type": "code",
   "execution_count": 26,
   "metadata": {},
   "outputs": [
    {
     "data": {
      "text/plain": [
       "0.01861360895903184"
      ]
     },
     "execution_count": 26,
     "metadata": {},
     "output_type": "execute_result"
    }
   ],
   "source": [
    "np.sqrt(eigenvalues[1] * (1 / n_female + 1 / n_male) * c_squared)"
   ]
  },
  {
   "cell_type": "markdown",
   "metadata": {},
   "source": [
    "Bán trục 3 có độ dài $\\sqrt{\\lambda_3 \\bigg( \\dfrac{1}{n_1} + \\dfrac{1}{n_2} \\bigg) c^2}$:"
   ]
  },
  {
   "cell_type": "code",
   "execution_count": 27,
   "metadata": {},
   "outputs": [
    {
     "data": {
      "text/plain": [
       "0.023562575638718615"
      ]
     },
     "execution_count": 27,
     "metadata": {},
     "output_type": "execute_result"
    }
   ],
   "source": [
    "np.sqrt(eigenvalues[2] * (1 / n_female + 1 / n_male) * c_squared)"
   ]
  },
  {
   "cell_type": "markdown",
   "metadata": {},
   "source": [
    "* Khoảng tin cậy đồng thời 100(1 - $\\alpha$)% của $\\mu_{1j} - \\mu_{2j}, \\quad j=1,2,3$:\n",
    "$$\\overline{x}_{1j} - \\overline{x}_{2j} \\pm c \\sqrt{\\bigg( \\dfrac{1}{n_1} + \\dfrac{1}{n_2} \\bigg) s_{ii}}$$"
   ]
  },
  {
   "cell_type": "code",
   "execution_count": 28,
   "metadata": {},
   "outputs": [],
   "source": [
    "center = female_mean.item(0) - male_mean.item(0)\n",
    "range = np.sqrt(c_squared * (1 / n_female + 1 / n_male) * S[0][0])"
   ]
  },
  {
   "cell_type": "markdown",
   "metadata": {
    "variables": {
     "\"{:.4f}\".format(center)": "0.1752",
     "\"{:.4f}\".format(range)": "0.1174"
    }
   },
   "source": [
    "$\\mu_{11} - \\mu_{21}:${{\"{:.4f}\".format(center)}} $\\pm$ {{\"{:.4f}\".format(range)}}"
   ]
  },
  {
   "cell_type": "code",
   "execution_count": 29,
   "metadata": {},
   "outputs": [],
   "source": [
    "center = female_mean.item(1) - male_mean.item(1)\n",
    "range = np.sqrt(c_squared * (1 / n_female + 1 / n_male) * S[1][1])"
   ]
  },
  {
   "cell_type": "markdown",
   "metadata": {
    "variables": {
     "\"{:.4f}\".format(center)": "0.2371",
     "\"{:.4f}\".format(range)": "0.1080"
    }
   },
   "source": [
    "$\\mu_{12} - \\mu_{22}:${{\"{:.4f}\".format(center)}} $\\pm$ {{\"{:.4f}\".format(range)}}"
   ]
  },
  {
   "cell_type": "code",
   "execution_count": 30,
   "metadata": {},
   "outputs": [],
   "source": [
    "center = female_mean.item(2) - male_mean.item(2)\n",
    "range = np.sqrt(c_squared * (1 / n_female + 1 / n_male) * S[2][2])"
   ]
  },
  {
   "cell_type": "markdown",
   "metadata": {
    "variables": {
     "\"{:.4f}\".format(center)": "0.2371",
     "\"{:.4f}\".format(range)": "0.1080"
    }
   },
   "source": [
    "$\\mu_{13} - \\mu_{23}:${{\"{:.4f}\".format(center)}} $\\pm$ {{\"{:.4f}\".format(range)}}"
   ]
  },
  {
   "cell_type": "markdown",
   "metadata": {},
   "source": [
    "* Khoảng tin cậy Bonferroni 100(1 - $\\alpha$)% của $\\mu_{1j} - \\mu_{2j}, \\quad j=1,2,3$:\n",
    "$$\\overline{x}_{1j} - \\overline{x}_{2j} \\pm c \\sqrt{\\bigg( \\dfrac{1}{n_1} + \\dfrac{1}{n_2} \\bigg) s_{ii}}$$\n",
    "với $c = t_{n_1 + n_2 - 2}(\\alpha / 2d)$ ($t_{n_1 + n_2 - 2}( \\alpha / 2d)$ là giá trị hàm sinh tồn của phân phối tại $\\alpha / 2d$)."
   ]
  },
  {
   "cell_type": "code",
   "execution_count": 31,
   "metadata": {},
   "outputs": [],
   "source": [
    "rv2 = stats.t(n_female + n_male - 2)\n",
    "c = rv2.isf(alpha / (2 * d))"
   ]
  },
  {
   "cell_type": "code",
   "execution_count": 32,
   "metadata": {},
   "outputs": [],
   "source": [
    "center = female_mean.item(0) - male_mean.item(0)\n",
    "range = c * np.sqrt((1 / n_female + 1 / n_male) * S[0][0])"
   ]
  },
  {
   "cell_type": "markdown",
   "metadata": {
    "variables": {
     "\"{:.4f}\".format(center)": "0.1752",
     "\"{:.4f}\".format(range)": "0.0982"
    }
   },
   "source": [
    "$\\mu_{11} - \\mu_{21}:${{\"{:.4f}\".format(center)}} $\\pm$ {{\"{:.4f}\".format(range)}}"
   ]
  },
  {
   "cell_type": "code",
   "execution_count": 33,
   "metadata": {},
   "outputs": [],
   "source": [
    "center = female_mean.item(1) - male_mean.item(1)\n",
    "range = c * np.sqrt((1 / n_female + 1 / n_male) * S[1][1])"
   ]
  },
  {
   "cell_type": "markdown",
   "metadata": {
    "variables": {
     "\"{:.4f}\".format(center)": "0.2371",
     "\"{:.4f}\".format(range)": "0.0903"
    }
   },
   "source": [
    "$\\mu_{12} - \\mu_{22}:${{\"{:.4f}\".format(center)}} $\\pm$ {{\"{:.4f}\".format(range)}}"
   ]
  },
  {
   "cell_type": "code",
   "execution_count": 34,
   "metadata": {},
   "outputs": [],
   "source": [
    "center = female_mean.item(2) - male_mean.item(2)\n",
    "range = c * np.sqrt((1 / n_female + 1 / n_male) * S[2][2])"
   ]
  },
  {
   "cell_type": "markdown",
   "metadata": {
    "variables": {
     "\"{:.4f}\".format(center)": "0.2371",
     "\"{:.4f}\".format(range)": "0.0903"
    }
   },
   "source": [
    "$\\mu_{13} - \\mu_{23}:${{\"{:.4f}\".format(center)}} $\\pm$ {{\"{:.4f}\".format(range)}}"
   ]
  }
 ],
 "metadata": {
  "kernelspec": {
   "display_name": "Python 3",
   "language": "python",
   "name": "python3"
  },
  "language_info": {
   "codemirror_mode": {
    "name": "ipython",
    "version": 3
   },
   "file_extension": ".py",
   "mimetype": "text/x-python",
   "name": "python",
   "nbconvert_exporter": "python",
   "pygments_lexer": "ipython3",
   "version": "3.6.4"
  }
 },
 "nbformat": 4,
 "nbformat_minor": 2
}
